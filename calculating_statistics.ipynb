{
 "cells": [
  {
   "cell_type": "markdown",
   "metadata": {},
   "source": [
    "# Calculating Statistics"
   ]
  },
  {
   "cell_type": "markdown",
   "metadata": {},
   "source": [
    "**Objetivo:** Calcular estatísticas de tempo de execução do programa jacobi.c em diferentes cenários."
   ]
  },
  {
   "cell_type": "markdown",
   "metadata": {},
   "source": [
    "## Libraries"
   ]
  },
  {
   "cell_type": "code",
   "execution_count": 1,
   "metadata": {},
   "outputs": [],
   "source": [
    "import numpy as np\n",
    "import pandas as pd"
   ]
  },
  {
   "cell_type": "markdown",
   "metadata": {},
   "source": [
    "## Processing Data"
   ]
  },
  {
   "cell_type": "code",
   "execution_count": 6,
   "metadata": {},
   "outputs": [],
   "source": [
    "flags = ['O0', 'O1', 'O2', 'O3']\n",
    "\n",
    "data = {}\n",
    "\n",
    "for flag in flags:\n",
    "    data[flag] = []\n",
    "    with open(f'compiler_optimization_{flag}.txt', 'r') as file:\n",
    "        file_data = file.readlines()\n",
    "        for i in range(0, 10):\n",
    "            line = file_data[10*i + 7]\n",
    "            data[flag].append(line.split()[3])\n",
    "\n",
    "data['manual'] = []\n",
    "with open('manual_optimization.txt', 'r') as file:\n",
    "    file_data = file.readlines()\n",
    "    for i in range(0, 10):\n",
    "        line = file_data[10*i + 7]\n",
    "        data['manual'].append(line.split()[3])"
   ]
  },
  {
   "cell_type": "markdown",
   "metadata": {},
   "source": [
    "## Computing Statistics"
   ]
  },
  {
   "cell_type": "code",
   "execution_count": 7,
   "metadata": {},
   "outputs": [
    {
     "name": "stdout",
     "output_type": "stream",
     "text": [
      "Mean values:\n",
      "O0        448.772730\n",
      "O1        333.895654\n",
      "O2        341.457029\n",
      "O3        340.796191\n",
      "manual    447.849114\n",
      "dtype: float64\n",
      "\n",
      "\n",
      "Standard deviations:\n",
      "O0         6.523744\n",
      "O1         4.607575\n",
      "O2         8.719689\n",
      "O3         5.265848\n",
      "manual    11.478453\n",
      "dtype: float64\n"
     ]
    }
   ],
   "source": [
    "df = pd.DataFrame(data, columns=data.keys())\n",
    "\n",
    "for column in df.columns:\n",
    "    df[column] = df[column].astype(np.float64)\n",
    "\n",
    "print(\"Mean values:\")\n",
    "print(df.mean())\n",
    "\n",
    "print(\"\\n\")\n",
    "\n",
    "print(\"Standard deviations:\")\n",
    "print(df.std())"
   ]
  }
 ],
 "metadata": {
  "kernelspec": {
   "display_name": "General_Work_Kernel",
   "language": "python",
   "name": "general_work_kernel"
  },
  "language_info": {
   "codemirror_mode": {
    "name": "ipython",
    "version": 3
   },
   "file_extension": ".py",
   "mimetype": "text/x-python",
   "name": "python",
   "nbconvert_exporter": "python",
   "pygments_lexer": "ipython3",
   "version": "3.11.9"
  }
 },
 "nbformat": 4,
 "nbformat_minor": 2
}
